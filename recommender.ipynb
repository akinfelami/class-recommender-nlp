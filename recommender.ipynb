{
 "cells": [
  {
   "cell_type": "code",
   "execution_count": 1,
   "metadata": {
    "colab": {
     "base_uri": "https://localhost:8080/"
    },
    "id": "FMhVsoV_Ld-6",
    "outputId": "adae449e-5203-418d-e487-c6e87b8ef0bc"
   },
   "outputs": [
    {
     "name": "stderr",
     "output_type": "stream",
     "text": [
      "[nltk_data] Downloading package stopwords to /Users/akin/nltk_data...\n",
      "[nltk_data]   Package stopwords is already up-to-date!\n",
      "[nltk_data] Downloading package punkt to /Users/akin/nltk_data...\n",
      "[nltk_data]   Package punkt is already up-to-date!\n"
     ]
    }
   ],
   "source": [
    "# Importing necessary libraries\n",
    "import pandas as pd\n",
    "import numpy as np\n",
    "import nltk\n",
    "import ssl\n",
    "\n",
    "try:\n",
    "    _create_unverified_https_context = ssl._create_unverified_context\n",
    "except AttributeError:\n",
    "    pass\n",
    "else:\n",
    "    ssl._create_default_https_context =   _create_unverified_https_context\n",
    "    \n",
    "nltk.download('stopwords')\n",
    "nltk.download('punkt')\n",
    "from nltk.corpus import stopwords\n",
    "from nltk.tokenize import RegexpTokenizer\n",
    "import re\n",
    "from sklearn.feature_extraction.text import TfidfVectorizer\n",
    "import re\n",
    "import matplotlib.pyplot as plt\n",
    "from sklearn.metrics.pairwise import cosine_similarity\n",
    "from gensim.models import Word2Vec\n",
    "from matplotlib import pyplot\n",
    "from gensim.models import KeyedVectors\n",
    "import pandas as pd\n",
    "from nltk.tokenize import word_tokenize"
   ]
  },
  {
   "cell_type": "code",
   "execution_count": 2,
   "metadata": {
    "id": "4_G-SGXqI2Ca"
   },
   "outputs": [],
   "source": [
    "# Load dataset \n",
    "import pickle\n",
    "with open('/Users/akin/Desktop/Desktop/dev/course-recommender/catalog.pkl', 'rb') as f:\n",
    "    df = pickle.load(f)"
   ]
  },
  {
   "cell_type": "code",
   "execution_count": 3,
   "metadata": {
    "id": "KpU6CJ5eJmaS"
   },
   "outputs": [],
   "source": [
    "df = pd.DataFrame(df, \n",
    "                  columns=['subject code', 'course number', \n",
    "                           'course title', 'course description'])"
   ]
  },
  {
   "cell_type": "code",
   "execution_count": 4,
   "metadata": {
    "colab": {
     "base_uri": "https://localhost:8080/"
    },
    "id": "hlT000L3JxdC",
    "outputId": "45e9b860-0251-4feb-b104-bbf2a21bb708"
   },
   "outputs": [
    {
     "name": "stdout",
     "output_type": "stream",
     "text": [
      "(4619, 4)\n"
     ]
    }
   ],
   "source": [
    "print(df.shape)"
   ]
  },
  {
   "cell_type": "code",
   "execution_count": 5,
   "metadata": {
    "colab": {
     "base_uri": "https://localhost:8080/",
     "height": 206
    },
    "id": "LL1LyWS7JtDg",
    "outputId": "636c9a26-3d61-4f0a-ca12-22efd7b56cdb"
   },
   "outputs": [
    {
     "data": {
      "text/html": [
       "<div>\n",
       "<style scoped>\n",
       "    .dataframe tbody tr th:only-of-type {\n",
       "        vertical-align: middle;\n",
       "    }\n",
       "\n",
       "    .dataframe tbody tr th {\n",
       "        vertical-align: top;\n",
       "    }\n",
       "\n",
       "    .dataframe thead th {\n",
       "        text-align: right;\n",
       "    }\n",
       "</style>\n",
       "<table border=\"1\" class=\"dataframe\">\n",
       "  <thead>\n",
       "    <tr style=\"text-align: right;\">\n",
       "      <th></th>\n",
       "      <th>subject code</th>\n",
       "      <th>course number</th>\n",
       "      <th>course title</th>\n",
       "      <th>course description</th>\n",
       "    </tr>\n",
       "  </thead>\n",
       "  <tbody>\n",
       "    <tr>\n",
       "      <th>0</th>\n",
       "      <td>AAP</td>\n",
       "      <td>3099</td>\n",
       "      <td>Special Topics in AAP</td>\n",
       "      <td>\\n            Topics TBA.\\n</td>\n",
       "    </tr>\n",
       "    <tr>\n",
       "      <th>1</th>\n",
       "      <td>AAS</td>\n",
       "      <td>1100</td>\n",
       "      <td>Introduction to Asian American Studies</td>\n",
       "      <td>\\n            This interdisciplinary course of...</td>\n",
       "    </tr>\n",
       "    <tr>\n",
       "      <th>2</th>\n",
       "      <td>AAS</td>\n",
       "      <td>2620</td>\n",
       "      <td>Introduction to Asian American Literature</td>\n",
       "      <td>\\n            This course will introduce both ...</td>\n",
       "    </tr>\n",
       "    <tr>\n",
       "      <th>3</th>\n",
       "      <td>AAS</td>\n",
       "      <td>3312</td>\n",
       "      <td>Afro-Asia: Futurism and Feminism</td>\n",
       "      <td>\\n            This course explores cultural re...</td>\n",
       "    </tr>\n",
       "    <tr>\n",
       "      <th>4</th>\n",
       "      <td>AAS</td>\n",
       "      <td>3378</td>\n",
       "      <td>Korean American Literature</td>\n",
       "      <td>\\n            The rapidly growing literature o...</td>\n",
       "    </tr>\n",
       "  </tbody>\n",
       "</table>\n",
       "</div>"
      ],
      "text/plain": [
       "  subject code course number                               course title  \\\n",
       "0          AAP          3099                      Special Topics in AAP   \n",
       "1          AAS          1100     Introduction to Asian American Studies   \n",
       "2          AAS          2620  Introduction to Asian American Literature   \n",
       "3          AAS          3312           Afro-Asia: Futurism and Feminism   \n",
       "4          AAS          3378                 Korean American Literature   \n",
       "\n",
       "                                  course description  \n",
       "0                \\n            Topics TBA.\\n          \n",
       "1  \\n            This interdisciplinary course of...  \n",
       "2  \\n            This course will introduce both ...  \n",
       "3  \\n            This course explores cultural re...  \n",
       "4  \\n            The rapidly growing literature o...  "
      ]
     },
     "execution_count": 5,
     "metadata": {},
     "output_type": "execute_result"
    }
   ],
   "source": [
    "df.head(5)"
   ]
  },
  {
   "cell_type": "code",
   "execution_count": 6,
   "metadata": {
    "colab": {
     "base_uri": "https://localhost:8080/"
    },
    "id": "Avne2yhQKBjF",
    "outputId": "7e9bd86a-9692-4bf8-c2ae-d7b0df14249b"
   },
   "outputs": [
    {
     "name": "stdout",
     "output_type": "stream",
     "text": [
      "Introduction to Asian American Studies\n",
      "This interdisciplinary course offers an introduction to the study of Asian/Pacific Islanders in the U.S. This course will examine, through a range of disciplines (including history, literary studies,&nbsp;film/media, performance, anthropology, sociology), issues and methods that have emerged from Asian American Studies since its inception in the late 1960s, including the types of research questions and methods that the study of Asians & Pacific Islander peoples in the U.S. as well as politics and historical relations in the Asia/Pacific region have to offer. In this course, we will pay particular attention to the role of culture and its production in documenting histories, formulating critical practices, and galvanizing political efforts. Topics and themes include: war & empire; queer & feminist lives and histories; refugee, adoptees, transnational families, and other forms of kinship & belonging; anti-Asian violence; settler colonialism and postcolonial critique.\n"
     ]
    }
   ],
   "source": [
    "# Print random course title and description\n",
    "print(df['course title'][1])\n",
    "print(df['course description'][1].strip())"
   ]
  },
  {
   "cell_type": "code",
   "execution_count": 7,
   "metadata": {
    "colab": {
     "base_uri": "https://localhost:8080/"
    },
    "id": "TH0HwOHiNgbC",
    "outputId": "f820705c-18ec-4d3e-c969-bf014abda301"
   },
   "outputs": [
    {
     "name": "stdout",
     "output_type": "stream",
     "text": [
      "Designing Data Products\n",
      "This course will help students to gain the necessary skills of building a data product and using AI (artificial intelligence). Many industries today are faced with high data volumes and there is an understanding that \"data is the new gold\". Business or customer value is not created by data; but rather, it is created by the application of data, ML (machine learning) and deep learning AI. This course trains students to link the possibilities of data and AI to business needs. This course will be held over seven class sessions of double-period length. These classes will be a combination of lectures, discussions, interviews, hands on training with data and AI and peer reviews. At the end of this course students will build their own AI driven product.\n"
     ]
    }
   ],
   "source": [
    "\n",
    "# Print random course title and description\n",
    "print(df['course title'][3233])\n",
    "print(df['course description'][3233].strip())"
   ]
  },
  {
   "cell_type": "code",
   "execution_count": 8,
   "metadata": {
    "colab": {
     "base_uri": "https://localhost:8080/",
     "height": 363
    },
    "id": "FV-OA2s1NMKL",
    "outputId": "bd123453-1a9e-4874-cdfc-1d9b592c74d1"
   },
   "outputs": [
    {
     "data": {
      "text/plain": [
       "<AxesSubplot: >"
      ]
     },
     "execution_count": 8,
     "metadata": {},
     "output_type": "execute_result"
    },
    {
     "data": {
      "image/png": "[encoded data removed]",
      "text/plain": [
       "<Figure size 1000x500 with 1 Axes>"
      ]
     },
     "metadata": {},
     "output_type": "display_data"
    }
   ],
   "source": [
    "df['subject code'].value_counts()[:30].plot(\n",
    "    x = 'subject code', y ='count', kind = 'bar', figsize = (10,5)  )"
   ]
  },
  {
   "cell_type": "markdown",
   "metadata": {
    "id": "sd-5dVYoOEaY"
   },
   "source": [
    "Interesting findings above. Law has the most number of courses at Cornell for SP23"
   ]
  },
  {
   "cell_type": "code",
   "execution_count": 9,
   "metadata": {
    "id": "LxlcCcpdK5Xm"
   },
   "outputs": [],
   "source": [
    "# Pre-processing\n",
    "def _removeNonAscii(s):\n",
    "    return \"\".join(i for i in s if  ord(i)<128)\n",
    "\n",
    "def make_lower_case(text):\n",
    "    return text.lower()\n",
    "\n",
    "def remove_stop_words(text):\n",
    "    text = text.split()\n",
    "    stops = set(stopwords.words(\"english\"))\n",
    "    text = [w for w in text if not w in stops]\n",
    "    text = \" \".join(text)\n",
    "    return text\n",
    "\n",
    "def remove_html(text):\n",
    "    html_pattern = re.compile('<.*?>')\n",
    "    return html_pattern.sub(r'', text)\n",
    "\n",
    "def remove_punctuation(text):\n",
    "    tokenizer = RegexpTokenizer(r'\\w+')\n",
    "    text = tokenizer.tokenize(text)\n",
    "    text = \" \".join(text)\n",
    "    return text"
   ]
  },
  {
   "cell_type": "code",
   "execution_count": 10,
   "metadata": {},
   "outputs": [],
   "source": [
    "df['desc'] = df['course description'].apply(_removeNonAscii)\n",
    "df['desc'] = df.desc.apply(func = make_lower_case)\n",
    "df['desc'] = df.desc.apply(func = remove_stop_words)\n",
    "df['desc'] = df.desc.apply(func=remove_punctuation)\n",
    "df['desc'] = df.desc.apply(func=remove_html)"
   ]
  },
  {
   "cell_type": "code",
   "execution_count": 11,
   "metadata": {
    "colab": {
     "base_uri": "https://localhost:8080/",
     "height": 337
    },
    "id": "Nz92kM6sMOeP",
    "outputId": "f0aed2c7-8290-4fe7-bc0d-80455b1ff06f"
   },
   "outputs": [
    {
     "data": {
      "text/html": [
       "<div>\n",
       "<style scoped>\n",
       "    .dataframe tbody tr th:only-of-type {\n",
       "        vertical-align: middle;\n",
       "    }\n",
       "\n",
       "    .dataframe tbody tr th {\n",
       "        vertical-align: top;\n",
       "    }\n",
       "\n",
       "    .dataframe thead th {\n",
       "        text-align: right;\n",
       "    }\n",
       "</style>\n",
       "<table border=\"1\" class=\"dataframe\">\n",
       "  <thead>\n",
       "    <tr style=\"text-align: right;\">\n",
       "      <th></th>\n",
       "      <th>subject code</th>\n",
       "      <th>course number</th>\n",
       "      <th>course title</th>\n",
       "      <th>course description</th>\n",
       "      <th>desc</th>\n",
       "    </tr>\n",
       "  </thead>\n",
       "  <tbody>\n",
       "    <tr>\n",
       "      <th>0</th>\n",
       "      <td>AAP</td>\n",
       "      <td>3099</td>\n",
       "      <td>Special Topics in AAP</td>\n",
       "      <td>\\n            Topics TBA.\\n</td>\n",
       "      <td>topics tba</td>\n",
       "    </tr>\n",
       "    <tr>\n",
       "      <th>1</th>\n",
       "      <td>AAS</td>\n",
       "      <td>1100</td>\n",
       "      <td>Introduction to Asian American Studies</td>\n",
       "      <td>\\n            This interdisciplinary course of...</td>\n",
       "      <td>interdisciplinary course offers introduction s...</td>\n",
       "    </tr>\n",
       "    <tr>\n",
       "      <th>2</th>\n",
       "      <td>AAS</td>\n",
       "      <td>2620</td>\n",
       "      <td>Introduction to Asian American Literature</td>\n",
       "      <td>\\n            This course will introduce both ...</td>\n",
       "      <td>course introduce variety writings asian north ...</td>\n",
       "    </tr>\n",
       "    <tr>\n",
       "      <th>3</th>\n",
       "      <td>AAS</td>\n",
       "      <td>3312</td>\n",
       "      <td>Afro-Asia: Futurism and Feminism</td>\n",
       "      <td>\\n            This course explores cultural re...</td>\n",
       "      <td>course explores cultural representations afro ...</td>\n",
       "    </tr>\n",
       "    <tr>\n",
       "      <th>4</th>\n",
       "      <td>AAS</td>\n",
       "      <td>3378</td>\n",
       "      <td>Korean American Literature</td>\n",
       "      <td>\\n            The rapidly growing literature o...</td>\n",
       "      <td>rapidly growingliteratureof thekoreandiaspora ...</td>\n",
       "    </tr>\n",
       "  </tbody>\n",
       "</table>\n",
       "</div>"
      ],
      "text/plain": [
       "  subject code course number                               course title  \\\n",
       "0          AAP          3099                      Special Topics in AAP   \n",
       "1          AAS          1100     Introduction to Asian American Studies   \n",
       "2          AAS          2620  Introduction to Asian American Literature   \n",
       "3          AAS          3312           Afro-Asia: Futurism and Feminism   \n",
       "4          AAS          3378                 Korean American Literature   \n",
       "\n",
       "                                  course description  \\\n",
       "0                \\n            Topics TBA.\\n           \n",
       "1  \\n            This interdisciplinary course of...   \n",
       "2  \\n            This course will introduce both ...   \n",
       "3  \\n            This course explores cultural re...   \n",
       "4  \\n            The rapidly growing literature o...   \n",
       "\n",
       "                                                desc  \n",
       "0                                         topics tba  \n",
       "1  interdisciplinary course offers introduction s...  \n",
       "2  course introduce variety writings asian north ...  \n",
       "3  course explores cultural representations afro ...  \n",
       "4  rapidly growingliteratureof thekoreandiaspora ...  "
      ]
     },
     "execution_count": 11,
     "metadata": {},
     "output_type": "execute_result"
    }
   ],
   "source": [
    "df.head(5)"
   ]
  },
  {
   "cell_type": "code",
   "execution_count": 12,
   "metadata": {
    "colab": {
     "base_uri": "https://localhost:8080/"
    },
    "id": "L7lUoUw5MTEt",
    "outputId": "bdc5a6fc-beca-4a1d-da54-42fec8f0467c"
   },
   "outputs": [
    {
     "name": "stdout",
     "output_type": "stream",
     "text": [
      "interdisciplinary course offers introduction study asian pacific islanders u s course examine range disciplines including history literary studies nbsp film media performance anthropology sociology issues methods emerged asian american studies since inception late 1960s including types research questions methods study asians pacific islander peoples u s well politics historical relations asia pacific region offer course pay particular attention role culture production documenting histories formulating critical practices galvanizing political efforts topics themes include war empire queer feminist lives histories refugee adoptees transnational families forms kinship belonging anti asian violence settler colonialism postcolonial critique\n"
     ]
    }
   ],
   "source": [
    "# Print random course title and description after cleaning\n",
    "print(df['desc'][1])"
   ]
  },
  {
   "cell_type": "markdown",
   "metadata": {
    "id": "7Y9VAP7TMkiy"
   },
   "source": [
    "## TF-IDF Word2Vec Model\n"
   ]
  },
  {
   "cell_type": "code",
   "execution_count": 13,
   "metadata": {
    "id": "MpyHKJimRmPe"
   },
   "outputs": [],
   "source": [
    "# Tokenize words\n",
    "corpus = []\n",
    "for words in df['desc']:\n",
    "    corpus.append(word_tokenize(words))\n",
    "    "
   ]
  },
  {
   "cell_type": "code",
   "execution_count": 14,
   "metadata": {
    "colab": {
     "base_uri": "https://localhost:8080/"
    },
    "id": "YRyRwUC4MmVX",
    "outputId": "8319cf55-593d-4435-cd4f-8ba1243eb6a4"
   },
   "outputs": [],
   "source": [
    "#Building TFIDF model and calculate TFIDF score for descriptions\n",
    "tfidf = TfidfVectorizer(analyzer='word', ngram_range=(1, 3), min_df = 5, stop_words='english')\n",
    "tfidf.fit(df['desc'])\n",
    "\n",
    "\n",
    "# Getting the words from the TF-IDF model\n",
    "tfidf_list = dict(zip(tfidf.get_feature_names_out(), list(tfidf.idf_)))\n",
    "tfidf_feature = tfidf.get_feature_names_out()"
   ]
  },
  {
   "cell_type": "code",
   "execution_count": 15,
   "metadata": {
    "id": "QhDfwHOhTAeO"
   },
   "outputs": [],
   "source": [
    "# Using google pretrained Word2vec model with over 2 billion words\n",
    "model_file = \"/Users/akin/Desktop/Desktop/dev/course-recommender/GoogleNews-vectors-negative300-SLIM.bin.gz\""
   ]
  },
  {
   "cell_type": "code",
   "execution_count": 16,
   "metadata": {
    "id": "aDLEF_a5gQTt"
   },
   "outputs": [],
   "source": [
    "pretrained_model = KeyedVectors.load_word2vec_format(model_file, binary=True)"
   ]
  },
  {
   "cell_type": "code",
   "execution_count": 17,
   "metadata": {
    "id": "LIQ8FvhDSJHF"
   },
   "outputs": [],
   "source": [
    "model = Word2Vec(vector_size=300, window=5, min_count=1, workers=4)\n",
    "model.build_vocab(corpus)"
   ]
  },
  {
   "cell_type": "code",
   "execution_count": 18,
   "metadata": {
    "id": "kMP85wDHhIuw"
   },
   "outputs": [],
   "source": [
    "model.build_vocab([list(pretrained_model.key_to_index.keys())], update=True)"
   ]
  },
  {
   "cell_type": "code",
   "execution_count": 19,
   "metadata": {
    "id": "4kpBDf7Pgahx"
   },
   "outputs": [
    {
     "data": {
      "text/plain": [
       "(1097270, 1097270)"
      ]
     },
     "execution_count": 19,
     "metadata": {},
     "output_type": "execute_result"
    }
   ],
   "source": [
    "model.train(corpus, total_examples=model.corpus_count, epochs=5)"
   ]
  },
  {
   "cell_type": "code",
   "execution_count": 27,
   "metadata": {},
   "outputs": [],
   "source": [
    "import bz2"
   ]
  },
  {
   "cell_type": "code",
   "execution_count": 20,
   "metadata": {},
   "outputs": [],
   "source": [
    "with open('model.pkl', 'wb') as f:\n",
    "  pickle.dump(model, f)"
   ]
  },
  {
   "cell_type": "code",
   "execution_count": 21,
   "metadata": {
    "id": "X38xg2c2RW0M"
   },
   "outputs": [],
   "source": [
    "# Averaging the vectors of each word to get sentence embeddings is not the best\n",
    "# approach, so this is using the tfidf vectors to weight it.\n",
    "tfidf_vectors = []\n",
    "line = 0;\n",
    "\n",
    "for desc in corpus:\n",
    "  sent_vec = np.zeros(300)\n",
    "  weight_sum = 0\n",
    "  for word in desc:\n",
    "    if word in model.wv.key_to_index and word in tfidf_feature:\n",
    "      vec = model.wv[word]\n",
    "      tf_idf = tfidf_list[word] * (desc.count(word) / len(desc))\n",
    "      sent_vec += (vec * tf_idf)\n",
    "      weight_sum += tf_idf\n",
    "  if weight_sum != 0:\n",
    "        sent_vec /= weight_sum\n",
    "  tfidf_vectors.append(sent_vec)\n",
    "  line += 1"
   ]
  },
  {
   "cell_type": "code",
   "execution_count": 108,
   "metadata": {},
   "outputs": [],
   "source": [
    "with open('vectors.pkl', 'wb') as f:\n",
    "  pickle.dump(tfidf_vectors, f)"
   ]
  },
  {
   "cell_type": "code",
   "execution_count": 24,
   "metadata": {},
   "outputs": [],
   "source": [
    "def recommend_from_keyword(keywords):\n",
    "    \n",
    "    keywords = [word_tokenize(keywords)]\n",
    "    \n",
    "    keyword_vectors = []\n",
    "\n",
    "\n",
    "    for line in keywords:\n",
    "        avgword2vec = None\n",
    "        count = 0\n",
    "        for word in line:\n",
    "            if word in model.wv.key_to_index :\n",
    "                count += 1\n",
    "                if avgword2vec is None:\n",
    "                    avgword2vec = model.wv[word]\n",
    "                else:\n",
    "                    avgword2vec = avgword2vec + model.wv[word]\n",
    "                \n",
    "        if avgword2vec is not None:\n",
    "            avgword2vec = avgword2vec / count\n",
    "        \n",
    "            keyword_vectors.append(avgword2vec)\n",
    "                    \n",
    "    cosine_similarities = cosine_similarity(keyword_vectors, tfidf_vectors)\n",
    "    avg_scores = cosine_similarities.mean(axis=0)\n",
    "    top_recommendations = np.argsort(avg_scores)[::-1][:20]\n",
    "    courses = df['course title']\n",
    "    df_recommended = []\n",
    "    for i in top_recommendations:\n",
    "        df_recommended.append(df.iloc[i])\n",
    "    return pd.DataFrame(df_recommended, columns=['subject code', 'course number', \n",
    "                           'course title'])"
   ]
  },
  {
   "cell_type": "code",
   "execution_count": 25,
   "metadata": {},
   "outputs": [
    {
     "data": {
      "text/html": [
       "<div>\n",
       "<style scoped>\n",
       "    .dataframe tbody tr th:only-of-type {\n",
       "        vertical-align: middle;\n",
       "    }\n",
       "\n",
       "    .dataframe tbody tr th {\n",
       "        vertical-align: top;\n",
       "    }\n",
       "\n",
       "    .dataframe thead th {\n",
       "        text-align: right;\n",
       "    }\n",
       "</style>\n",
       "<table border=\"1\" class=\"dataframe\">\n",
       "  <thead>\n",
       "    <tr style=\"text-align: right;\">\n",
       "      <th></th>\n",
       "      <th>subject code</th>\n",
       "      <th>course number</th>\n",
       "      <th>course title</th>\n",
       "    </tr>\n",
       "  </thead>\n",
       "  <tbody>\n",
       "    <tr>\n",
       "      <th>2459</th>\n",
       "      <td>INFO</td>\n",
       "      <td>5368</td>\n",
       "      <td>Practical Applications in Machine Learning (PAML)</td>\n",
       "    </tr>\n",
       "    <tr>\n",
       "      <th>2461</th>\n",
       "      <td>INFO</td>\n",
       "      <td>5375</td>\n",
       "      <td>Machine Learning for Health</td>\n",
       "    </tr>\n",
       "    <tr>\n",
       "      <th>1398</th>\n",
       "      <td>CS</td>\n",
       "      <td>7792</td>\n",
       "      <td>Special Topics in Machine Learning</td>\n",
       "    </tr>\n",
       "    <tr>\n",
       "      <th>1608</th>\n",
       "      <td>EDUC</td>\n",
       "      <td>2210</td>\n",
       "      <td>Designing and Facilitating Learning for Develo...</td>\n",
       "    </tr>\n",
       "    <tr>\n",
       "      <th>1941</th>\n",
       "      <td>GDEV</td>\n",
       "      <td>2210</td>\n",
       "      <td>Designing and Facilitating Learning for Develo...</td>\n",
       "    </tr>\n",
       "    <tr>\n",
       "      <th>1387</th>\n",
       "      <td>CS</td>\n",
       "      <td>6789</td>\n",
       "      <td>Foundations of Reinforcement Learning</td>\n",
       "    </tr>\n",
       "    <tr>\n",
       "      <th>1367</th>\n",
       "      <td>CS</td>\n",
       "      <td>5780</td>\n",
       "      <td>Introduction to Machine Learning</td>\n",
       "    </tr>\n",
       "    <tr>\n",
       "      <th>1337</th>\n",
       "      <td>CS</td>\n",
       "      <td>4780</td>\n",
       "      <td>Introduction to Machine Learning</td>\n",
       "    </tr>\n",
       "    <tr>\n",
       "      <th>4332</th>\n",
       "      <td>SYSEN</td>\n",
       "      <td>5880</td>\n",
       "      <td>Industrial Big Data Analytics and Machine Lear...</td>\n",
       "    </tr>\n",
       "    <tr>\n",
       "      <th>4338</th>\n",
       "      <td>SYSEN</td>\n",
       "      <td>6880</td>\n",
       "      <td>Industrial Big Data Analytics and Machine Lear...</td>\n",
       "    </tr>\n",
       "    <tr>\n",
       "      <th>1063</th>\n",
       "      <td>CHEME</td>\n",
       "      <td>6880</td>\n",
       "      <td>Industrial Big Data Analytics and Machine Lear...</td>\n",
       "    </tr>\n",
       "    <tr>\n",
       "      <th>1209</th>\n",
       "      <td>COMM</td>\n",
       "      <td>3110</td>\n",
       "      <td>Educational Psychology</td>\n",
       "    </tr>\n",
       "    <tr>\n",
       "      <th>1611</th>\n",
       "      <td>EDUC</td>\n",
       "      <td>3110</td>\n",
       "      <td>Educational Psychology</td>\n",
       "    </tr>\n",
       "    <tr>\n",
       "      <th>2201</th>\n",
       "      <td>HD</td>\n",
       "      <td>3110</td>\n",
       "      <td>Educational Psychology</td>\n",
       "    </tr>\n",
       "    <tr>\n",
       "      <th>1534</th>\n",
       "      <td>ECE</td>\n",
       "      <td>5420</td>\n",
       "      <td>Fundamentals of Machine Learning</td>\n",
       "    </tr>\n",
       "    <tr>\n",
       "      <th>1508</th>\n",
       "      <td>ECE</td>\n",
       "      <td>4200</td>\n",
       "      <td>Fundamentals of Machine Learning</td>\n",
       "    </tr>\n",
       "    <tr>\n",
       "      <th>303</th>\n",
       "      <td>ANTHR</td>\n",
       "      <td>1520</td>\n",
       "      <td>Tamil Conversation in Context</td>\n",
       "    </tr>\n",
       "    <tr>\n",
       "      <th>683</th>\n",
       "      <td>BANA</td>\n",
       "      <td>6920</td>\n",
       "      <td>Machine Learning Applications in Business</td>\n",
       "    </tr>\n",
       "    <tr>\n",
       "      <th>1369</th>\n",
       "      <td>CS</td>\n",
       "      <td>5789</td>\n",
       "      <td>Introduction to Reinforcement Learning</td>\n",
       "    </tr>\n",
       "    <tr>\n",
       "      <th>1338</th>\n",
       "      <td>CS</td>\n",
       "      <td>4789</td>\n",
       "      <td>Introduction to Reinforcement Learning</td>\n",
       "    </tr>\n",
       "  </tbody>\n",
       "</table>\n",
       "</div>"
      ],
      "text/plain": [
       "     subject code course number  \\\n",
       "2459         INFO          5368   \n",
       "2461         INFO          5375   \n",
       "1398           CS          7792   \n",
       "1608         EDUC          2210   \n",
       "1941         GDEV          2210   \n",
       "1387           CS          6789   \n",
       "1367           CS          5780   \n",
       "1337           CS          4780   \n",
       "4332        SYSEN          5880   \n",
       "4338        SYSEN          6880   \n",
       "1063        CHEME          6880   \n",
       "1209         COMM          3110   \n",
       "1611         EDUC          3110   \n",
       "2201           HD          3110   \n",
       "1534          ECE          5420   \n",
       "1508          ECE          4200   \n",
       "303         ANTHR          1520   \n",
       "683          BANA          6920   \n",
       "1369           CS          5789   \n",
       "1338           CS          4789   \n",
       "\n",
       "                                           course title  \n",
       "2459  Practical Applications in Machine Learning (PAML)  \n",
       "2461                        Machine Learning for Health  \n",
       "1398                 Special Topics in Machine Learning  \n",
       "1608  Designing and Facilitating Learning for Develo...  \n",
       "1941  Designing and Facilitating Learning for Develo...  \n",
       "1387              Foundations of Reinforcement Learning  \n",
       "1367                   Introduction to Machine Learning  \n",
       "1337                   Introduction to Machine Learning  \n",
       "4332  Industrial Big Data Analytics and Machine Lear...  \n",
       "4338  Industrial Big Data Analytics and Machine Lear...  \n",
       "1063  Industrial Big Data Analytics and Machine Lear...  \n",
       "1209                             Educational Psychology  \n",
       "1611                             Educational Psychology  \n",
       "2201                             Educational Psychology  \n",
       "1534                   Fundamentals of Machine Learning  \n",
       "1508                   Fundamentals of Machine Learning  \n",
       "303                       Tamil Conversation in Context  \n",
       "683           Machine Learning Applications in Business  \n",
       "1369             Introduction to Reinforcement Learning  \n",
       "1338             Introduction to Reinforcement Learning  "
      ]
     },
     "execution_count": 25,
     "metadata": {},
     "output_type": "execute_result"
    }
   ],
   "source": [
    "recommend_from_keyword('machine learning')"
   ]
  },
  {
   "cell_type": "code",
   "execution_count": 57,
   "metadata": {
    "id": "vmHECQKOeOF9"
   },
   "outputs": [],
   "source": [
    "def recommend_from_title(title):\n",
    "      cosine_similarities = cosine_similarity(tfidf_vectors,  tfidf_vectors)\n",
    "      courses = df[['course title', 'subject code', 'course number']]\n",
    "      indices = pd.Series(df.index, index = df['course title'])\n",
    "        \n",
    "      idx = indices[title]\n",
    "      # Temporary fix : some courses titles are duplicated. \n",
    "      # Trying to keep the duplicates because they come from\n",
    "      # different departments. \n",
    "      if isinstance(idx, pd.core.series.Series):\n",
    "            idx = idx[0]\n",
    "      sim_scores = list(enumerate(cosine_similarities[idx]))\n",
    "      sim_scores = sorted(sim_scores, key = lambda x: x[1], reverse = True)\n",
    "      sim_scores = sim_scores[1:21]\n",
    "      course_indices = [i[0] for i in sim_scores]\n",
    "      recommend = courses.iloc[course_indices]\n",
    "      return recommend"
   ]
  },
  {
   "cell_type": "code",
   "execution_count": 58,
   "metadata": {},
   "outputs": [
    {
     "data": {
      "text/html": [
       "<div>\n",
       "<style scoped>\n",
       "    .dataframe tbody tr th:only-of-type {\n",
       "        vertical-align: middle;\n",
       "    }\n",
       "\n",
       "    .dataframe tbody tr th {\n",
       "        vertical-align: top;\n",
       "    }\n",
       "\n",
       "    .dataframe thead th {\n",
       "        text-align: right;\n",
       "    }\n",
       "</style>\n",
       "<table border=\"1\" class=\"dataframe\">\n",
       "  <thead>\n",
       "    <tr style=\"text-align: right;\">\n",
       "      <th></th>\n",
       "      <th>course title</th>\n",
       "      <th>subject code</th>\n",
       "      <th>course number</th>\n",
       "    </tr>\n",
       "  </thead>\n",
       "  <tbody>\n",
       "    <tr>\n",
       "      <th>1045</th>\n",
       "      <td>Undergraduate Projects in Chemical Engineering</td>\n",
       "      <td>CHEME</td>\n",
       "      <td>4900</td>\n",
       "    </tr>\n",
       "    <tr>\n",
       "      <th>1053</th>\n",
       "      <td>Special Projects in Chemical Engineering</td>\n",
       "      <td>CHEME</td>\n",
       "      <td>5999</td>\n",
       "    </tr>\n",
       "    <tr>\n",
       "      <th>1067</th>\n",
       "      <td>Chemical Engineering Seminar</td>\n",
       "      <td>CHEME</td>\n",
       "      <td>7900</td>\n",
       "    </tr>\n",
       "    <tr>\n",
       "      <th>1022</th>\n",
       "      <td>Computational Methods in Chemistry</td>\n",
       "      <td>CHEM</td>\n",
       "      <td>4810</td>\n",
       "    </tr>\n",
       "    <tr>\n",
       "      <th>1026</th>\n",
       "      <td>Computational Methods in Chemistry</td>\n",
       "      <td>CHEM</td>\n",
       "      <td>5810</td>\n",
       "    </tr>\n",
       "    <tr>\n",
       "      <th>1004</th>\n",
       "      <td>General Chemistry II</td>\n",
       "      <td>CHEM</td>\n",
       "      <td>2080</td>\n",
       "    </tr>\n",
       "    <tr>\n",
       "      <th>739</th>\n",
       "      <td>Chemical Ecology</td>\n",
       "      <td>BIOEE</td>\n",
       "      <td>3690</td>\n",
       "    </tr>\n",
       "    <tr>\n",
       "      <th>836</th>\n",
       "      <td>Chemical Ecology</td>\n",
       "      <td>BIONB</td>\n",
       "      <td>3690</td>\n",
       "    </tr>\n",
       "    <tr>\n",
       "      <th>1778</th>\n",
       "      <td>Chemical Ecology</td>\n",
       "      <td>ENTOM</td>\n",
       "      <td>3690</td>\n",
       "    </tr>\n",
       "    <tr>\n",
       "      <th>1049</th>\n",
       "      <td>Design Project</td>\n",
       "      <td>CHEME</td>\n",
       "      <td>5650</td>\n",
       "    </tr>\n",
       "  </tbody>\n",
       "</table>\n",
       "</div>"
      ],
      "text/plain": [
       "                                        course title subject code  \\\n",
       "1045  Undergraduate Projects in Chemical Engineering        CHEME   \n",
       "1053        Special Projects in Chemical Engineering        CHEME   \n",
       "1067                    Chemical Engineering Seminar        CHEME   \n",
       "1022              Computational Methods in Chemistry         CHEM   \n",
       "1026              Computational Methods in Chemistry         CHEM   \n",
       "1004                            General Chemistry II         CHEM   \n",
       "739                                 Chemical Ecology        BIOEE   \n",
       "836                                 Chemical Ecology        BIONB   \n",
       "1778                                Chemical Ecology        ENTOM   \n",
       "1049                                  Design Project        CHEME   \n",
       "\n",
       "     course number  \n",
       "1045          4900  \n",
       "1053          5999  \n",
       "1067          7900  \n",
       "1022          4810  \n",
       "1026          5810  \n",
       "1004          2080  \n",
       "739           3690  \n",
       "836           3690  \n",
       "1778          3690  \n",
       "1049          5650  "
      ]
     },
     "execution_count": 58,
     "metadata": {},
     "output_type": "execute_result"
    }
   ],
   "source": [
    "recommend_from_title('Chemical Kinetics and Reactor Design').head(10)"
   ]
  }
 ],
 "metadata": {
  "colab": {
   "provenance": []
  },
  "kernelspec": {
   "display_name": "Python 3 (ipykernel)",
   "language": "python",
   "name": "python3"
  },
  "language_info": {
   "codemirror_mode": {
    "name": "ipython",
    "version": 3
   },
   "file_extension": ".py",
   "mimetype": "text/x-python",
   "name": "python",
   "nbconvert_exporter": "python",
   "pygments_lexer": "ipython3",
   "version": "3.10.9"
  },
  "vscode": {
   "interpreter": {
    "hash": "b0fa6594d8f4cbf19f97940f81e996739fb7646882a419484c72d19e05852a7e"
   }
  }
 },
 "nbformat": 4,
 "nbformat_minor": 1
}
