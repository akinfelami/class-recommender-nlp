{
 "cells": [
  {
   "cell_type": "code",
   "execution_count": 11,
   "metadata": {
    "id": "_JDcd_Lp_s9L"
   },
   "outputs": [],
   "source": [
    "from bs4 import BeautifulSoup\n",
    "import requests"
   ]
  },
  {
   "cell_type": "code",
   "execution_count": 12,
   "metadata": {
    "id": "5UXr92xABFDS"
   },
   "outputs": [],
   "source": [
    "ROOT_URL = \"https://classes.cornell.edu\""
   ]
  },
  {
   "cell_type": "code",
   "execution_count": 13,
   "metadata": {
    "id": "UL-oN-x9Bxiw"
   },
   "outputs": [],
   "source": [
    "def current_semester():\n",
    "    req = requests.get(ROOT_URL)\n",
    "    req.raise_for_status()\n",
    "    return req.url.strip(\"/\").split(\"/\")[-1]"
   ]
  },
  {
   "cell_type": "code",
   "execution_count": 14,
   "metadata": {
    "colab": {
     "base_uri": "https://localhost:8080/",
     "height": 35
    },
    "id": "W0daFfN7Fcg8",
    "outputId": "6c9aafe9-968f-4948-86c8-71e2d600e3f8"
   },
   "outputs": [
    {
     "data": {
      "text/plain": [
       "'SP23'"
      ]
     },
     "execution_count": 14,
     "metadata": {},
     "output_type": "execute_result"
    }
   ],
   "source": [
    "current_semester()"
   ]
  },
  {
   "cell_type": "code",
   "execution_count": 46,
   "metadata": {
    "id": "xPxILFBVA2Sb"
   },
   "outputs": [],
   "source": [
    "def all_subject_codes():\n",
    "    req = requests.get(ROOT_URL)\n",
    "    roster_bs4 = BeautifulSoup(req.text, \"html.parser\")\n",
    "    subject_tags = roster_bs4.select(\".browse-subjectcode\")\n",
    "    return [str(tag.getText()) for tag in subject_tags]"
   ]
  },
  {
   "cell_type": "code",
   "execution_count": 47,
   "metadata": {
    "colab": {
     "base_uri": "https://localhost:8080/"
    },
    "id": "4Dx7YKzIAUDF",
    "outputId": "d0f982fe-64cf-460a-bea9-2b7d44f8ac98"
   },
   "outputs": [
    {
     "data": {
      "text/plain": [
       "['AAP', 'AAS', 'AEM', 'AEP', 'AGSCI', 'AIIS', 'AIRS', 'ALS', 'AMST', 'ANSC']"
      ]
     },
     "execution_count": 47,
     "metadata": {},
     "output_type": "execute_result"
    }
   ],
   "source": [
    "all_subject_codes()[:10]"
   ]
  },
  {
   "cell_type": "code",
   "execution_count": 48,
   "metadata": {
    "id": "ebi1htvaK-OM"
   },
   "outputs": [],
   "source": [
    "semester = current_semester()\n",
    "course_catalog = []\n",
    "\n",
    "# Iterate through each subject\n",
    "for subject_code in all_subject_codes():\n",
    "    subject_req = requests.get(ROOT_URL + \"/browse/roster/\" + semester + \"/subject/\" + subject_code)\n",
    "    subject_bs4 = BeautifulSoup(subject_req.text, \"html.parser\")\n",
    "    course_tags = subject_bs4.find_all(\"div\", class_=\"node\")\n",
    "    if len(course_tags) == 0:\n",
    "        continue\n",
    "    course_tags.pop(0)\n",
    "    \n",
    "    \n",
    "    # Iterate through each course and get relevant information\n",
    "    for tag in course_tags:\n",
    "        course_num = tag[\"data-catalog-nbr\"]\n",
    "        course_title = tag.find_all(\"div\", class_=\"title-coursedescr\")[0].getText()\n",
    "        req_url = ROOT_URL + \"/browse/roster/\" + semester + \"/class/\" + subject_code + \"/\" + course_num\n",
    "        req_desc = requests.get(req_url)\n",
    "        desc_bs4 = BeautifulSoup(req_desc.text, \"html.parser\")\n",
    "        course_description = desc_bs4.find('p', class_=\"catalog-descr\").text\n",
    "        course_catalog.append([subject_code, course_num, course_title, course_description])\n"
   ]
  },
  {
   "cell_type": "code",
   "execution_count": 55,
   "metadata": {},
   "outputs": [
    {
     "name": "stdout",
     "output_type": "stream",
     "text": [
      "4619\n"
     ]
    }
   ],
   "source": [
    "print(len(course_catalog))"
   ]
  },
  {
   "cell_type": "code",
   "execution_count": 56,
   "metadata": {},
   "outputs": [],
   "source": [
    "import pandas as pd"
   ]
  },
  {
   "cell_type": "code",
   "execution_count": 58,
   "metadata": {
    "id": "cBnX07SalQTc"
   },
   "outputs": [],
   "source": [
    "df = pd.DataFrame(course_catalog, \n",
    "                            columns=['subject code', 'course number', 'course title', 'course description'])"
   ]
  },
  {
   "cell_type": "code",
   "execution_count": 59,
   "metadata": {},
   "outputs": [
    {
     "data": {
      "text/html": [
       "<div>\n",
       "<style scoped>\n",
       "    .dataframe tbody tr th:only-of-type {\n",
       "        vertical-align: middle;\n",
       "    }\n",
       "\n",
       "    .dataframe tbody tr th {\n",
       "        vertical-align: top;\n",
       "    }\n",
       "\n",
       "    .dataframe thead th {\n",
       "        text-align: right;\n",
       "    }\n",
       "</style>\n",
       "<table border=\"1\" class=\"dataframe\">\n",
       "  <thead>\n",
       "    <tr style=\"text-align: right;\">\n",
       "      <th></th>\n",
       "      <th>subject code</th>\n",
       "      <th>course number</th>\n",
       "      <th>course title</th>\n",
       "      <th>course description</th>\n",
       "    </tr>\n",
       "  </thead>\n",
       "  <tbody>\n",
       "    <tr>\n",
       "      <th>0</th>\n",
       "      <td>AAP</td>\n",
       "      <td>3099</td>\n",
       "      <td>Special Topics in AAP</td>\n",
       "      <td>\\n            Topics TBA.\\n</td>\n",
       "    </tr>\n",
       "    <tr>\n",
       "      <th>1</th>\n",
       "      <td>AAS</td>\n",
       "      <td>1100</td>\n",
       "      <td>Introduction to Asian American Studies</td>\n",
       "      <td>\\n            This interdisciplinary course of...</td>\n",
       "    </tr>\n",
       "    <tr>\n",
       "      <th>2</th>\n",
       "      <td>AAS</td>\n",
       "      <td>2620</td>\n",
       "      <td>Introduction to Asian American Literature</td>\n",
       "      <td>\\n            This course will introduce both ...</td>\n",
       "    </tr>\n",
       "    <tr>\n",
       "      <th>3</th>\n",
       "      <td>AAS</td>\n",
       "      <td>3312</td>\n",
       "      <td>Afro-Asia: Futurism and Feminism</td>\n",
       "      <td>\\n            This course explores cultural re...</td>\n",
       "    </tr>\n",
       "    <tr>\n",
       "      <th>4</th>\n",
       "      <td>AAS</td>\n",
       "      <td>3378</td>\n",
       "      <td>Korean American Literature</td>\n",
       "      <td>\\n            The rapidly growing literature o...</td>\n",
       "    </tr>\n",
       "    <tr>\n",
       "      <th>5</th>\n",
       "      <td>AAS</td>\n",
       "      <td>4950</td>\n",
       "      <td>Independent Study</td>\n",
       "      <td>\\n            Independent reading course in to...</td>\n",
       "    </tr>\n",
       "    <tr>\n",
       "      <th>6</th>\n",
       "      <td>AAS</td>\n",
       "      <td>6630</td>\n",
       "      <td>Asian American Theory and Literature</td>\n",
       "      <td>\\n            This graduate seminar focuses on...</td>\n",
       "    </tr>\n",
       "    <tr>\n",
       "      <th>7</th>\n",
       "      <td>AAS</td>\n",
       "      <td>7200</td>\n",
       "      <td>Directed Graduate Individual Study</td>\n",
       "      <td>\\n        No description available.\\n</td>\n",
       "    </tr>\n",
       "    <tr>\n",
       "      <th>8</th>\n",
       "      <td>AEM</td>\n",
       "      <td>1200</td>\n",
       "      <td>Introduction to Business Management</td>\n",
       "      <td>\\n            Provides an overview of manageme...</td>\n",
       "    </tr>\n",
       "    <tr>\n",
       "      <th>9</th>\n",
       "      <td>AEM</td>\n",
       "      <td>1500</td>\n",
       "      <td>An Introduction to the Economics of Environmen...</td>\n",
       "      <td>\\n            This course provides an introduc...</td>\n",
       "    </tr>\n",
       "  </tbody>\n",
       "</table>\n",
       "</div>"
      ],
      "text/plain": [
       "  subject code course number  \\\n",
       "0          AAP          3099   \n",
       "1          AAS          1100   \n",
       "2          AAS          2620   \n",
       "3          AAS          3312   \n",
       "4          AAS          3378   \n",
       "5          AAS          4950   \n",
       "6          AAS          6630   \n",
       "7          AAS          7200   \n",
       "8          AEM          1200   \n",
       "9          AEM          1500   \n",
       "\n",
       "                                        course title  \\\n",
       "0                              Special Topics in AAP   \n",
       "1             Introduction to Asian American Studies   \n",
       "2          Introduction to Asian American Literature   \n",
       "3                   Afro-Asia: Futurism and Feminism   \n",
       "4                         Korean American Literature   \n",
       "5                                  Independent Study   \n",
       "6               Asian American Theory and Literature   \n",
       "7                 Directed Graduate Individual Study   \n",
       "8                Introduction to Business Management   \n",
       "9  An Introduction to the Economics of Environmen...   \n",
       "\n",
       "                                  course description  \n",
       "0                \\n            Topics TBA.\\n          \n",
       "1  \\n            This interdisciplinary course of...  \n",
       "2  \\n            This course will introduce both ...  \n",
       "3  \\n            This course explores cultural re...  \n",
       "4  \\n            The rapidly growing literature o...  \n",
       "5  \\n            Independent reading course in to...  \n",
       "6  \\n            This graduate seminar focuses on...  \n",
       "7      \\n        No description available.\\n          \n",
       "8  \\n            Provides an overview of manageme...  \n",
       "9  \\n            This course provides an introduc...  "
      ]
     },
     "execution_count": 59,
     "metadata": {},
     "output_type": "execute_result"
    }
   ],
   "source": [
    "df.head(10)"
   ]
  },
  {
   "cell_type": "code",
   "execution_count": 60,
   "metadata": {},
   "outputs": [
    {
     "name": "stdout",
     "output_type": "stream",
     "text": [
      "(4619, 4)\n"
     ]
    }
   ],
   "source": [
    "print(df.shape)"
   ]
  },
  {
   "cell_type": "code",
   "execution_count": 61,
   "metadata": {},
   "outputs": [],
   "source": [
    "import pickle"
   ]
  },
  {
   "cell_type": "code",
   "execution_count": 62,
   "metadata": {
    "id": "O9PViN2xls86"
   },
   "outputs": [],
   "source": [
    "with open('catalog.pkl', 'wb') as f:\n",
    "    pickle.dump(course_catalog, f)\n"
   ]
  },
  {
   "cell_type": "code",
   "execution_count": 63,
   "metadata": {
    "id": "KGQTNsN_lw1H"
   },
   "outputs": [],
   "source": [
    "with open('data.pkl', 'wb') as f:\n",
    "    pickle.dump(df, f)"
   ]
  },
  {
   "cell_type": "code",
   "execution_count": null,
   "metadata": {},
   "outputs": [],
   "source": []
  }
 ],
 "metadata": {
  "colab": {
   "provenance": []
  },
  "kernelspec": {
   "display_name": "Python 3 (ipykernel)",
   "language": "python",
   "name": "python3"
  },
  "language_info": {
   "codemirror_mode": {
    "name": "ipython",
    "version": 3
   },
   "file_extension": ".py",
   "mimetype": "text/x-python",
   "name": "python",
   "nbconvert_exporter": "python",
   "pygments_lexer": "ipython3",
   "version": "3.10.5"
  }
 },
 "nbformat": 4,
 "nbformat_minor": 1
}
